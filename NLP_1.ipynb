{
 "cells": [
  {
   "cell_type": "markdown",
   "metadata": {},
   "source": [
    "# 1.Perform tokenization (Whitespace, Punctuation-based, Treebank, Tweet, MWE) using NLTK library.\n",
    "# Use porter stemmer and snowball stemmer for stemming. Use any technique for lemmatization. \n",
    "\n",
    "Tokenization: The process of breaking down a text into smaller units, which are typically words or subwords. These units are called tokens. Tokenization can involve splitting text based on whitespace, punctuation, or specific rules depending on the context or purpose of analysis.\n",
    "\n",
    "Whitespace Tokenization: This method involves splitting text based on spaces, tabs, or line breaks. Each word or group of characters separated by whitespace becomes a token.\n",
    "\n",
    "Punctuation-based Tokenization: In this approach, text is divided into tokens based on punctuation marks such as commas, periods, exclamation marks, etc. Punctuation marks themselves can either be treated as separate tokens or ignored.\n",
    "\n",
    "Treebank Tokenization: Treebank tokenization is a specific tokenization scheme commonly used in natural language processing (NLP). It involves breaking down text into tokens according to linguistic rules, often based on the syntactic structure of sentences.\n",
    "\n",
    "Tweet Tokenization: This is a specialized form of tokenization tailored for processing tweets on social media platforms like Twitter. It typically considers hashtags, mentions, emojis, and other Twitter-specific elements.\n",
    "\n",
    "MWE (Multi-Word Expression): Multi-word expressions are sequences of words that function as a single unit in language. Examples include \"kick the bucket\" and \"break the ice.\" Tokenization methods may treat MWEs as single tokens to preserve their meaning.\n",
    "\n",
    "Stemming: Stemming is the process of reducing words to their base or root form, often by removing suffixes or prefixes. The goal is to map related words to the same stem, thereby reducing variation in the vocabulary. Stemming algorithms may not always produce valid words.\n",
    "\n",
    "Stemmer: A stemmer is an algorithm or program that performs stemming. It applies predefined rules to strip affixes from words to obtain their stems.\n",
    "\n",
    "Porter Stemmer: One of the most well-known stemming algorithms developed by Martin Porter in 1980. It uses a set of rules to strip common suffixes from English words to obtain their stems. While simple and efficient, it may produce stems that are not actual words.\n",
    "\n",
    "Snowball Stemmer: Also known as the Porter2 stemmer, it is an improvement over the original Porter Stemmer. Snowball is a framework for developing stemming algorithms for various languages. It offers better performance and accuracy compared to the Porter Stemmer.\n",
    "\n",
    "Lemmatization: Lemmatization is the process of reducing words to their base or dictionary form, known as the lemma. Unlike stemming, lemmatization considers the context of words and aims to produce valid lemmas that are actual words. It often involves dictionary lookup and morphological analysis."
   ]
  },
  {
   "cell_type": "code",
   "execution_count": 1,
   "metadata": {
    "colab": {
     "base_uri": "https://localhost:8080/"
    },
    "executionInfo": {
     "elapsed": 2379,
     "status": "ok",
     "timestamp": 1705472739903,
     "user": {
      "displayName": "Adwait Deshpande",
      "userId": "14863366921114492910"
     },
     "user_tz": -330
    },
    "id": "YU-7UP-OF256",
    "outputId": "95c6532d-e1be-45c7-d411-70071147c568"
   },
   "outputs": [
    {
     "name": "stderr",
     "output_type": "stream",
     "text": [
      "[nltk_data] Downloading package punkt to\n",
      "[nltk_data]     C:\\Users\\adwai\\AppData\\Roaming\\nltk_data...\n",
      "[nltk_data]   Package punkt is already up-to-date!\n",
      "[nltk_data] Downloading package wordnet to\n",
      "[nltk_data]     C:\\Users\\adwai\\AppData\\Roaming\\nltk_data...\n",
      "[nltk_data]   Package wordnet is already up-to-date!\n"
     ]
    },
    {
     "name": "stdout",
     "output_type": "stream",
     "text": [
      "\n",
      "**Whitespace Tokenization:**\n",
      "['NLTK', 'is', 'a', 'powerful', 'library', 'for', 'natural', 'language', 'processing', 'tasks', '.', 'It', \"'s\", '#', 'awesome', '!']\n",
      "\n",
      "**Punctuation-based Tokenization:**\n",
      "['NLTK', 'is', 'a', 'powerful', 'library', 'for', 'natural', 'language', 'processing', 'tasks', '.', 'It', \"'\", 's', '#', 'awesome', '!']\n",
      "\n",
      "**Treebank Tokenization:**\n",
      "['NLTK', 'is', 'a', 'powerful', 'library', 'for', 'natural', 'language', 'processing', 'tasks.', 'It', \"'s\", '#', 'awesome', '!']\n",
      "\n",
      "**Tweet Tokenization:**\n",
      "['NLTK', 'is', 'a', 'powerful', 'library', 'for', 'natural', 'language', 'processing', 'tasks', '.', \"It's\", '#awesome', '!']\n",
      "\n",
      "**Porter Stemming:**\n",
      "['nltk', 'is', 'a', 'power', 'librari', 'for', 'natur', 'languag', 'process', 'task', '.', 'it', \"'s\", '#', 'awesom', '!']\n",
      "\n",
      "**Snowball Stemming:**\n",
      "['nltk', 'is', 'a', 'power', 'librari', 'for', 'natur', 'languag', 'process', 'task', '.', 'it', \"'s\", '#', 'awesom', '!']\n",
      "\n",
      "**Lemmatization:**\n",
      "['NLTK', 'is', 'a', 'powerful', 'library', 'for', 'natural', 'language', 'processing', 'task', '.', 'It', \"'s\", '#', 'awesome', '!']\n"
     ]
    }
   ],
   "source": [
    "import nltk\n",
    "from nltk.tokenize import word_tokenize, wordpunct_tokenize, TreebankWordTokenizer, TweetTokenizer\n",
    "from nltk.stem import PorterStemmer, SnowballStemmer\n",
    "from nltk.stem import WordNetLemmatizer\n",
    "nltk.download('punkt')\n",
    "nltk.download('wordnet')\n",
    "\n",
    "# Sample text\n",
    "text = \"NLTK is a powerful library for natural language processing tasks. It's #awesome!\"\n",
    "\n",
    "# Tokenization\n",
    "print(\"\\n**Whitespace Tokenization:**\")\n",
    "tokens_ws = word_tokenize(text)\n",
    "print(tokens_ws)\n",
    "\n",
    "print(\"\\n**Punctuation-based Tokenization:**\")\n",
    "tokens_punct = wordpunct_tokenize(text)\n",
    "print(tokens_punct)\n",
    "\n",
    "print(\"\\n**Treebank Tokenization:**\")\n",
    "treebank_tokenizer = TreebankWordTokenizer()\n",
    "tokens_treebank = treebank_tokenizer.tokenize(text)\n",
    "print(tokens_treebank)\n",
    "\n",
    "print(\"\\n**Tweet Tokenization:**\")\n",
    "tweet_tokenizer = TweetTokenizer()\n",
    "tokens_tweet = tweet_tokenizer.tokenize(text)\n",
    "print(tokens_tweet)\n",
    "\n",
    "# Stemming\n",
    "print(\"\\n**Porter Stemming:**\")\n",
    "porter_stemmer = PorterStemmer()\n",
    "stems_porter = [porter_stemmer.stem(token) for token in tokens_ws]\n",
    "print(stems_porter)\n",
    "\n",
    "print(\"\\n**Snowball Stemming:**\")\n",
    "snowball_stemmer = SnowballStemmer(\"english\")  # Choose a language\n",
    "stems_snowball = [snowball_stemmer.stem(token) for token in tokens_ws]\n",
    "print(stems_snowball)\n",
    "\n",
    "# Lemmatization\n",
    "print(\"\\n**Lemmatization:**\")\n",
    "lemmatizer = WordNetLemmatizer()\n",
    "lemmas = [lemmatizer.lemmatize(token) for token in tokens_ws]\n",
    "print(lemmas)\n"
   ]
  },
  {
   "cell_type": "code",
   "execution_count": null,
   "metadata": {
    "id": "UNAAkE0yHAYw"
   },
   "outputs": [],
   "source": []
  }
 ],
 "metadata": {
  "colab": {
   "authorship_tag": "ABX9TyMW/gBO73+XdcagfBgyjVOr",
   "provenance": []
  },
  "kernelspec": {
   "display_name": "Python 3",
   "language": "python",
   "name": "python3"
  },
  "language_info": {
   "codemirror_mode": {
    "name": "ipython",
    "version": 3
   },
   "file_extension": ".py",
   "mimetype": "text/x-python",
   "name": "python",
   "nbconvert_exporter": "python",
   "pygments_lexer": "ipython3",
   "version": "3.8.5"
  }
 },
 "nbformat": 4,
 "nbformat_minor": 1
}
